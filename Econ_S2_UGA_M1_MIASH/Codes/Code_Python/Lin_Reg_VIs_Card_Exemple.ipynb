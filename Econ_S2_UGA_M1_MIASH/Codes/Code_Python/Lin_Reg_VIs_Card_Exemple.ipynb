{
 "cells": [
  {
   "cell_type": "code",
   "execution_count": null,
   "metadata": {
    "collapsed": true
   },
   "outputs": [],
   "source": [
    "# Chargement des bibliothèques utilisées.\n",
    "\n",
    "import numpy as np\n",
    "import pandas as pd\n",
    "import statsmodels.api as sm\n",
    "import scipy as sp"
   ]
  },
  {
   "cell_type": "code",
   "execution_count": null,
   "metadata": {
    "collapsed": true
   },
   "outputs": [],
   "source": [
    "# Répertoire où sont les données issues de l'enquête emploi 2012.\n",
    "\n",
    "workdir =  '/Users/michalurdanivia/Google Drive/Enseignement/UGA/Econ_S2_UGA_M1_MIASH/Donnees/David_Card_NBER_1993/'\n"
   ]
  },
  {
   "cell_type": "markdown",
   "metadata": {},
   "source": [
    "# Lecture des données.\n",
    "\n",
    "Remarque.\n",
    "Les données sont celles utilisées par D. Card dans son travail \"Using Geographic Variation in College Proximity \n",
    "to Estimate the Return to Schooling.\" \n",
    "Vous devez lire ce travail.\n"
   ]
  },
  {
   "cell_type": "code",
   "execution_count": null,
   "metadata": {
    "collapsed": true
   },
   "outputs": [],
   "source": [
    "card_data = pd.read_stata(workdir+'card.dta') "
   ]
  },
  {
   "cell_type": "markdown",
   "metadata": {},
   "source": [
    "# Réplication de certains résultats de D. Card."
   ]
  },
  {
   "cell_type": "code",
   "execution_count": null,
   "metadata": {
    "collapsed": true
   },
   "outputs": [],
   "source": [
    "## Tableau 2, colonne 1(page 34): MCO.\n",
    "\n",
    "card_data['expersq100'] = card_data['expersq'] / 100\n",
    "Y = card_data['lwage']\n",
    "X = card_data[['educ', 'exper' , 'expersq100' , 'black' , 'south' , 'smsa' , 'smsa66', \\\n",
    "               'reg661' , 'reg662' , 'reg663' , 'reg664' , 'reg665' , 'reg666' , 'reg667',\\\n",
    "               'reg668']]\n",
    "\n",
    "X = sm.add_constant(X) # On ajoute une constante.\n",
    "param_names = [col for col in list(X)]"
   ]
  },
  {
   "cell_type": "markdown",
   "metadata": {},
   "source": [
    "# Estimation de la régression par MCO."
   ]
  },
  {
   "cell_type": "code",
   "execution_count": null,
   "metadata": {
    "collapsed": true
   },
   "outputs": [],
   "source": [
    "# Matrice de variances-convariances robuste à l'hétéroscédasticité de White(1980).\n",
    "lin_reg_ols = sm.OLS(Y, X).fit(cov_type='HC0')\n",
    "print ('------------------------------------------------------------------------------')\n",
    "print ('- Rendement des études: estimation par MCO                              ')\n",
    "print ('------------------------------------------------------------------------------')\n",
    "print ('')\n",
    "print(lin_reg_ols.summary())"
   ]
  },
  {
   "cell_type": "markdown",
   "metadata": {},
   "source": [
    "# Estimation de la régression par VIs.\n",
    "Dans cette partie nous allons d'abord définir une fonction permettant de calculer l'estimateur des VIs dans le cas\n",
    "juste-identifié.\n"
   ]
  },
  {
   "cell_type": "code",
   "execution_count": null,
   "metadata": {
    "collapsed": true
   },
   "outputs": [],
   "source": [
    "def ivreg(Y, X, Z):\n",
    "    # INPUTS:\n",
    "    # Y = numpy array N x 1 pour la variable dépendante.\n",
    "    # X = numpy array N x K pour le vecteur des régresseurs.\n",
    "    # Z = numpy array N x J pour le vecteur d'instruments avec J==K).\n",
    "    \n",
    "    # OUTPUTS:\n",
    "    # beta_hat = vecteur des paramètres estimés.\n",
    "    # vcov_hat = matrice K x K des variances-covariances des paramètres estimés.\n",
    "    \n",
    "    K = X.shape[1]\n",
    "    \n",
    "    # Estimateur des VIs.\n",
    "    ZZ = Z.T.dot(Z)\n",
    "    iZZ = numpy.linalg.inv(ZZ)\n",
    "    pZ = Z.dot(iZZ).dot(Z.T)\n",
    "    beta_hat = numpy.linalg.inv(X.T.dot(pZ).dot(X)).dot(X.T.dot(pZ).dot(Y))\n",
    "    \n",
    "    # Matrice de variances-covariances robuste.\n",
    "    U = Y - X.dot(beta_hat)\n",
    "    XZU = (pZ.dot(X)) * (U.dot(np.ones((1, K))))\n",
    "    iXZX = numpy.linalg.inv(X.T.dot(pZ).dot(X))\n",
    "    vcov_hat = iXZX.dot(XZU.T).dot(XZU).dot(iXZX)\n",
    "    \n",
    "    beta_hat = beta_hat.reshape(-1)  \n",
    "    \n",
    "    return [beta_hat, vcov_hat]"
   ]
  },
  {
   "cell_type": "code",
   "execution_count": null,
   "metadata": {
    "collapsed": true
   },
   "outputs": [],
   "source": [
    "## Estimation.\n",
    "\n",
    "Z = card_data[['nearc4', 'exper' , 'expersq100' , 'black' , 'south' , 'smsa' , 'smsa66', \\\n",
    "               'reg661' , 'reg662' , 'reg663' , 'reg664' , 'reg665' , 'reg666' , 'reg667',\\\n",
    "               'reg668']]\n",
    "Z = sm.add_constant(Z)\n",
    "N = len(Y)\n",
    "Y = np.array(Y).reshape(N, 1)\n",
    "X = np.array(X).reshape(N,-1)\n",
    "Z = np.array(Z).reshape(N,-1)\n",
    "[beta_hat, vcov_hat] = ivreg(Y, X, Z)\n",
    "\n",
    "## Affichage des résultats.\n",
    "\n",
    "se_beta = np.sqrt(np.diag(vcov_hat))\n",
    "iv_estim = {'beta':param_names, 'beta_hat':beta_hat, 'se':se_beta}\n",
    "results = pd.DataFrame(iv_estim)\n",
    "print('------------------------------------------------------------------------------')\n",
    "print('- Rendement des études: Estimation par VIs -')\n",
    "print('------------------------------------------------------------------------------')\n",
    "print('')\n",
    "print(results)"
   ]
  }
 ],
 "metadata": {
  "kernelspec": {
   "display_name": "Python 3",
   "language": "python",
   "name": "python3"
  },
  "language_info": {
   "codemirror_mode": {
    "name": "ipython",
    "version": 3
   },
   "file_extension": ".py",
   "mimetype": "text/x-python",
   "name": "python",
   "nbconvert_exporter": "python",
   "pygments_lexer": "ipython3",
   "version": "3.5.1"
  }
 },
 "nbformat": 4,
 "nbformat_minor": 0
}
